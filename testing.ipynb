{
 "metadata": {
  "language_info": {
   "codemirror_mode": {
    "name": "ipython",
    "version": 3
   },
   "file_extension": ".py",
   "mimetype": "text/x-python",
   "name": "python",
   "nbconvert_exporter": "python",
   "pygments_lexer": "ipython3",
   "version": "3.8.3-final"
  },
  "orig_nbformat": 2,
  "kernelspec": {
   "name": "python3",
   "display_name": "Python 3",
   "language": "python"
  }
 },
 "nbformat": 4,
 "nbformat_minor": 2,
 "cells": [
  {
   "cell_type": "code",
   "execution_count": 16,
   "metadata": {},
   "outputs": [],
   "source": [
    "import yfinance as yf\n",
    "import pandas as pandas\n",
    "import numpy as np\n",
    "import datetime\n",
    "import time"
   ]
  },
  {
   "cell_type": "code",
   "execution_count": 18,
   "metadata": {},
   "outputs": [
    {
     "output_type": "stream",
     "name": "stdout",
     "text": [
      "             Open   High    Low  Close    Volume  Dividends  Stock Splits\nDate                                                                     \n2020-05-11  10.76  10.76  10.76  10.76         0          0             0\n2020-05-12  10.76  10.76  10.76  10.76         0          0             0\n2020-05-13  10.76  10.76  10.76  10.76         0          0             0\n2020-05-14  10.76  10.76  10.76  10.76         0          0             0\n2020-05-15  10.76  10.76  10.76  10.76         0          0             0\n...           ...    ...    ...    ...       ...        ...           ...\n2020-12-17   2.46   3.08   2.38   2.83   3338700          0             0\n2020-12-18   3.20   3.55   2.72   2.77  17276800          0             0\n2020-12-21   2.66   2.85   2.60   2.70   1738600          0             0\n2020-12-22   2.70   2.90   2.63   2.85   1514500          0             0\n2020-12-23   2.79   2.97   2.76   2.88    779800          0             0\n\n[64 rows x 7 columns]\nStarting Date:\n2020-05-11 00:00:00\n<class 'pandas._libs.tslibs.timestamps.Timestamp'>\n2020-05-11 00:00:00\n<class 'pandas._libs.tslibs.timestamps.Timestamp'>\n0.23646211624145508 seconds to run\n"
     ]
    }
   ],
   "source": [
    "start_time = time.time()\n",
    "\n",
    "atnf = yf.Ticker(\"ATNF\")\n",
    "history = atnf.history(period='max')\n",
    "print(history)\n",
    "# print(history.iloc[0])\n",
    "print(\"Starting Date:\")\n",
    "print(history.index[0])\n",
    "print(type(history.index[0]))\n",
    "\n",
    "start_date = pandas.to_datetime(history.index[0])\n",
    "print(start_date)\n",
    "print(type(start_date))\n",
    "\n",
    "print(time.time() - start_time, \"seconds to run\")\n",
    "\n",
    "\n",
    "\n"
   ]
  },
  {
   "cell_type": "code",
   "execution_count": 23,
   "metadata": {},
   "outputs": [
    {
     "output_type": "stream",
     "name": "stderr",
     "text": [
      "100%|██████████| 122341/122341 [00:00<00:00, 2783016.39it/s]\n"
     ]
    }
   ],
   "source": [
    "from tqdm import tqdm\n",
    "\n",
    "for i in tqdm(range(122341)):\n",
    "    pass"
   ]
  },
  {
   "cell_type": "code",
   "execution_count": null,
   "metadata": {},
   "outputs": [],
   "source": [
    "gva = yf.Ticker(\"GVA\")\n",
    "history = gva.history(period='max')\n",
    "print(history)\n"
   ]
  },
  {
   "cell_type": "code",
   "execution_count": 24,
   "metadata": {},
   "outputs": [
    {
     "output_type": "stream",
     "name": "stdout",
     "text": [
      "2001-01-31\n2020\n240\n"
     ]
    }
   ],
   "source": [
    "import datetime\n",
    "import calendar\n",
    "\n",
    "\n",
    "def get_date(date_string):\n",
    "\ttemp = date_string.split('-')\n",
    "\tcurr_day = datetime.date(int(temp[0]), int(temp[1]), int(temp[2]))\n",
    "\n",
    "\treturn curr_day\n",
    "\n",
    "d0 = get_date('2000-02-01')\n",
    "d1 = get_date('2020-02-01')\n",
    "\n",
    "def month_after(date_string):\n",
    "\tdate = datetime.datetime.strptime(date_string, \"%Y-%m-%d\")\n",
    "\tdate += datetime.timedelta(days=calendar.monthrange(date.year,date.month)[1])\n",
    "\treturn date.strftime(\"%Y-%m-%d\")\n",
    "\n",
    "print(month_after('2000-12-31'))\n",
    "\n",
    "print(d1.year)\n",
    "print(int((d1 - d0).days / 30.4))"
   ]
  },
  {
   "cell_type": "code",
   "execution_count": 1,
   "metadata": {},
   "outputs": [],
   "source": [
    "import datetime\n",
    "\n",
    "def date_to_string(date):\n",
    "\treturn date.strftime(\"%Y-%m-%d\")\n",
    "\n",
    "def month_after(date_string):\n",
    "\tdate = datetime.datetime.strptime(date_string, \"%Y-%m-%d\")\n",
    "\tdate += datetime.timedelta(days=calendar.monthrange(date.year,date.month)[1])\n",
    "\treturn date.strftime(\"%Y-%m-%d\")\n",
    "\n",
    "\n",
    "date_iterator_start = self.month_after(self.date_to_string(date_iterator_start))"
   ]
  },
  {
   "cell_type": "code",
   "execution_count": 20,
   "metadata": {},
   "outputs": [
    {
     "output_type": "stream",
     "name": "stdout",
     "text": [
      "           Date       Open       High  ...   Volume  Dividends  Stock Splits\n170  2017-07-03  13.484298  13.725089  ...   909800        0.0             0\n171  2017-07-05  13.628770  14.331880  ...  2667600        0.0             0\n172  2017-07-06  14.168144  14.235565  ...  1464900        0.0             0\n173  2017-07-07  14.206669  14.245196  ...  2010000        0.0             0\n174  2017-07-10  13.917720  14.302986  ...  1364400        0.0             0\n175  2017-07-11  14.245197  14.649726  ...  3943200        0.0             0\n176  2017-07-12  14.447461  14.900148  ...  1730200        0.0             0\n177  2017-07-13  14.726778  15.304677  ...  1844800        0.0             0\n178  2017-07-14  15.121676  15.449152  ...  1468700        0.0             0\n179  2017-07-17  15.266150  15.314308  ...  2844100        0.0             0\n180  2017-07-18  14.563041  14.929044  ...  1245600        0.0             0\n181  2017-07-19  15.102413  15.121676  ...  1943300        0.0             0\n182  2017-07-20  14.986834  15.266151  ...  1633700        0.0             0\n183  2017-07-21  14.448426  14.765306  ...  3872100        0.0             0\n184  2017-07-24  14.457093  14.712331  ...  1413700        0.0             0\n185  2017-07-25  14.678619  14.784568  ...  1549600        0.0             0\n186  2017-07-26  14.640094  14.861622  ...  1727800        0.0             0\n187  2017-07-27  14.707516  14.717147  ...  2025600        0.0             0\n188  2017-07-28  14.399303  14.399303  ...  1057000        0.0             0\n189  2017-07-31  14.177776  14.457093  ...  1239300        0.0             0\n190  2017-08-01  14.505252  14.582305  ...  1582600        0.0             0\n\n[21 rows x 8 columns]\n14.505252270193337\n"
     ]
    }
   ],
   "source": [
    "import pandas as pd\n",
    "import csv\n",
    "import datetime\n",
    "\n",
    "with open(\"cache/ZTO.csv\") as datafile:\n",
    "    df = pd.read_csv(datafile)\n",
    "\n",
    "    start_date = '2017-07-01'\n",
    "    end_date = '2017-08-01'\n",
    "\n",
    "    after_start_date = df[\"Date\"] >= start_date\n",
    "    before_end_date = df[\"Date\"] <= end_date\n",
    "    between_two_dates = after_start_date & before_end_date\n",
    "    filtered_dates = df.loc[between_two_dates]\n",
    "    print(filtered_dates)\n",
    "    print(filtered_dates.iloc[-1][\"Open\"])\n",
    "  \n",
    "    "
   ]
  },
  {
   "cell_type": "code",
   "execution_count": 35,
   "metadata": {},
   "outputs": [],
   "source": [
    "from calculate import *\n",
    "\n",
    "ticker = yf.Ticker('^TNX')\n",
    "filename = '^TNX.csv'\n",
    "try:\n",
    "    pd.read_csv(filename)\n",
    "except:\n",
    "    # download data\n",
    "    data = ticker.history(period='max')\n",
    "    print(data)\n",
    "    # create new file and write data to it\n",
    "    # create cache folder if it doesn't exist\n",
    "    # os.mkdirs('cache', ) TODO probably good idea to fix this\n",
    "    with open(filename, 'w') as cache:\t\n",
    "        cache.write(data.to_csv())"
   ]
  },
  {
   "cell_type": "code",
   "execution_count": 100,
   "metadata": {},
   "outputs": [
    {
     "output_type": "stream",
     "name": "stdout",
     "text": [
      "13249\n13249    1.673\n13250    1.780\n13251    1.797\n13252    1.815\n13253    1.938\n13254    1.948\n13255    1.991\n13256    1.988\n13257    1.986\n13258    2.021\n13259    2.145\n13260    2.066\n13261    2.113\n13262    2.133\n13263    2.059\n13264    1.988\n13265    1.969\n13266    2.016\n13267    2.002\nName: Close, dtype: float64\n0     6.395696\n1     0.955061\n2     1.001670\n3     6.776854\n4     0.515995\n5     2.207397\n6    -0.150679\n7    -0.100608\n8     1.762335\n9     6.135580\n10   -3.682984\n11    2.274924\n12    0.946521\n13   -3.469287\n14   -3.448275\n15   -0.955737\n16    2.387001\n17   -0.694441\ndtype: float64\n"
     ]
    }
   ],
   "source": [
    "from calculate import *\n",
    "\n",
    "start_date = '2015-02-01'\n",
    "end_date = '2015-03-01'\n",
    "\n",
    "with open(\"cache/^TNX.csv\") as datafile:\n",
    "    df = pd.read_csv(datafile)\n",
    "    after_start_date = df[\"Date\"] >= start_date\n",
    "    before_end_date = df[\"Date\"] <= end_date\n",
    "    between_two_dates = after_start_date & before_end_date\n",
    "    filtered_dates = df.loc[between_two_dates]\n",
    "    \n",
    "    print(filtered_dates.index[0])\n",
    "    print(filtered_dates['Close'])\n",
    "\n",
    "    returns = []\n",
    "    starting_row = filtered_dates.index[0]\n",
    "    #print(filtered_dates)\n",
    "    for i in range(len(filtered_dates['Close']) - 1):\n",
    "        #print(filtered_dates['Close'][starting_row + i + 1] - filtered_dates['Close'][starting_row + i])\n",
    "        daily_return = (filtered_dates['Close'][starting_row + i + 1] - filtered_dates['Close'][starting_row + i]) / filtered_dates['Close'][starting_row + i] * 100\n",
    "        returns.append(daily_return)\n",
    "\n",
    "    pd_returns = pd.Series(returns)\n",
    "    print(pd_returns)\n",
    "\n",
    "pd_returns = pd.Series(returns)\n"
   ]
  },
  {
   "cell_type": "code",
   "execution_count": null,
   "metadata": {},
   "outputs": [],
   "source": [
    "from calculate import *\n",
    "\n",
    "date1 = datetime.date()"
   ]
  }
 ]
}