{
 "metadata": {
  "language_info": {
   "codemirror_mode": {
    "name": "ipython",
    "version": 3
   },
   "file_extension": ".py",
   "mimetype": "text/x-python",
   "name": "python",
   "nbconvert_exporter": "python",
   "pygments_lexer": "ipython3",
   "version": "3.8.3-final"
  },
  "orig_nbformat": 2,
  "kernelspec": {
   "name": "python3",
   "display_name": "Python 3",
   "language": "python"
  }
 },
 "nbformat": 4,
 "nbformat_minor": 2,
 "cells": [
  {
   "cell_type": "code",
   "execution_count": 16,
   "metadata": {},
   "outputs": [],
   "source": [
    "import yfinance as yf\n",
    "import pandas as pandas\n",
    "import numpy as np\n",
    "import datetime\n",
    "import time"
   ]
  },
  {
   "cell_type": "code",
   "execution_count": 18,
   "metadata": {},
   "outputs": [
    {
     "output_type": "stream",
     "name": "stdout",
     "text": [
      "             Open   High    Low  Close    Volume  Dividends  Stock Splits\nDate                                                                     \n2020-05-11  10.76  10.76  10.76  10.76         0          0             0\n2020-05-12  10.76  10.76  10.76  10.76         0          0             0\n2020-05-13  10.76  10.76  10.76  10.76         0          0             0\n2020-05-14  10.76  10.76  10.76  10.76         0          0             0\n2020-05-15  10.76  10.76  10.76  10.76         0          0             0\n...           ...    ...    ...    ...       ...        ...           ...\n2020-12-17   2.46   3.08   2.38   2.83   3338700          0             0\n2020-12-18   3.20   3.55   2.72   2.77  17276800          0             0\n2020-12-21   2.66   2.85   2.60   2.70   1738600          0             0\n2020-12-22   2.70   2.90   2.63   2.85   1514500          0             0\n2020-12-23   2.79   2.97   2.76   2.88    779800          0             0\n\n[64 rows x 7 columns]\nStarting Date:\n2020-05-11 00:00:00\n<class 'pandas._libs.tslibs.timestamps.Timestamp'>\n2020-05-11 00:00:00\n<class 'pandas._libs.tslibs.timestamps.Timestamp'>\n0.23646211624145508 seconds to run\n"
     ]
    }
   ],
   "source": [
    "start_time = time.time()\n",
    "\n",
    "atnf = yf.Ticker(\"ATNF\")\n",
    "history = atnf.history(period='max')\n",
    "print(history)\n",
    "# print(history.iloc[0])\n",
    "print(\"Starting Date:\")\n",
    "print(history.index[0])\n",
    "print(type(history.index[0]))\n",
    "\n",
    "start_date = pandas.to_datetime(history.index[0])\n",
    "print(start_date)\n",
    "print(type(start_date))\n",
    "\n",
    "print(time.time() - start_time, \"seconds to run\")\n",
    "\n",
    "\n",
    "\n"
   ]
  },
  {
   "cell_type": "code",
   "execution_count": 23,
   "metadata": {},
   "outputs": [
    {
     "output_type": "stream",
     "name": "stderr",
     "text": [
      "100%|██████████| 122341/122341 [00:00<00:00, 2783016.39it/s]\n"
     ]
    }
   ],
   "source": [
    "from tqdm import tqdm\n",
    "\n",
    "for i in tqdm(range(122341)):\n",
    "    pass"
   ]
  },
  {
   "cell_type": "code",
   "execution_count": null,
   "metadata": {},
   "outputs": [],
   "source": [
    "gva = yf.Ticker(\"GVA\")\n",
    "history = gva.history(period='max')\n",
    "print(history)\n"
   ]
  },
  {
   "cell_type": "code",
   "execution_count": 24,
   "metadata": {},
   "outputs": [
    {
     "output_type": "stream",
     "name": "stdout",
     "text": [
      "2001-01-31\n2020\n240\n"
     ]
    }
   ],
   "source": [
    "import datetime\n",
    "import calendar\n",
    "\n",
    "\n",
    "def get_date(date_string):\n",
    "\ttemp = date_string.split('-')\n",
    "\tcurr_day = datetime.date(int(temp[0]), int(temp[1]), int(temp[2]))\n",
    "\n",
    "\treturn curr_day\n",
    "\n",
    "d0 = get_date('2000-02-01')\n",
    "d1 = get_date('2020-02-01')\n",
    "\n",
    "def month_after(date_string):\n",
    "\tdate = datetime.datetime.strptime(date_string, \"%Y-%m-%d\")\n",
    "\tdate += datetime.timedelta(days=calendar.monthrange(date.year,date.month)[1])\n",
    "\treturn date.strftime(\"%Y-%m-%d\")\n",
    "\n",
    "print(month_after('2000-12-31'))\n",
    "\n",
    "print(d1.year)\n",
    "print(int((d1 - d0).days / 30.4))"
   ]
  },
  {
   "cell_type": "code",
   "execution_count": 1,
   "metadata": {},
   "outputs": [],
   "source": [
    "import datetime\n",
    "\n",
    "def date_to_string(date):\n",
    "\treturn date.strftime(\"%Y-%m-%d\")\n",
    "\n",
    "def month_after(date_string):\n",
    "\tdate = datetime.datetime.strptime(date_string, \"%Y-%m-%d\")\n",
    "\tdate += datetime.timedelta(days=calendar.monthrange(date.year,date.month)[1])\n",
    "\treturn date.strftime(\"%Y-%m-%d\")\n",
    "\n",
    "\n",
    "date_iterator_start = self.month_after(self.date_to_string(date_iterator_start))"
   ]
  },
  {
   "cell_type": "code",
   "execution_count": null,
   "metadata": {},
   "outputs": [],
   "source": []
  }
 ]
}