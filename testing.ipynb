{
 "metadata": {
  "language_info": {
   "codemirror_mode": {
    "name": "ipython",
    "version": 3
   },
   "file_extension": ".py",
   "mimetype": "text/x-python",
   "name": "python",
   "nbconvert_exporter": "python",
   "pygments_lexer": "ipython3",
   "version": "3.8.5-final"
  },
  "orig_nbformat": 2,
  "kernelspec": {
   "name": "python3",
   "display_name": "Python 3",
   "language": "python"
  }
 },
 "nbformat": 4,
 "nbformat_minor": 2,
 "cells": [
  {
   "cell_type": "code",
   "execution_count": 2,
   "metadata": {},
   "outputs": [],
   "source": [
    "import yfinance as yf\n",
    "import pandas as pandas\n",
    "import numpy as np"
   ]
  },
  {
   "cell_type": "code",
   "execution_count": 3,
   "metadata": {},
   "outputs": [
    {
     "output_type": "stream",
     "name": "stdout",
     "text": [
      "hello\n"
     ]
    }
   ],
   "source": [
    "print(\"hello\")"
   ]
  },
  {
   "cell_type": "code",
   "execution_count": 4,
   "metadata": {},
   "outputs": [
    {
     "output_type": "execute_result",
     "data": {
      "text/plain": [
       "{'zip': '98052-6399',\n",
       " 'sector': 'Technology',\n",
       " 'fullTimeEmployees': 163000,\n",
       " 'longBusinessSummary': 'Microsoft Corporation develops, licenses, and supports software, services, devices, and solutions worldwide. Its Productivity and Business Processes segment offers Office, Exchange, SharePoint, Microsoft Teams, Office 365 Security and Compliance, and Skype for Business, as well as related Client Access Licenses (CAL); Skype, Outlook.com, OneDrive, and LinkedIn; and Dynamics 365, a set of cloud-based and on-premises business solutions for small and medium businesses, large organizations, and divisions of enterprises. Its Intelligent Cloud segment licenses SQL and Windows Servers, Visual Studio, System Center, and related CALs; GitHub that provides a collaboration platform and code hosting service for developers; and Azure, a cloud platform. It also offers support services and Microsoft consulting services to assist customers in developing, deploying, and managing Microsoft server and desktop solutions; and training and certification to developers and IT professionals on various Microsoft products. Its More Personal Computing segment provides Windows original equipment manufacturer (OEM) licensing and other non-volume licensing of the Windows operating system; Windows Commercial, such as volume licensing of the Windows operating system, Windows cloud services, and other Windows commercial offerings; patent licensing; Windows Internet of Things; and MSN advertising. It also offers Surface, PC accessories, PCs, tablets, gaming and entertainment consoles, and other devices; Gaming, including Xbox hardware, and Xbox content and services; video games and third-party video game royalties; and Search, including Bing and Microsoft advertising. It sells its products through OEMs, distributors, and resellers; and directly through digital marketplaces, online stores, and retail stores. It has a strategic collaboration with DXC Technology. The company was founded in 1975 and is headquartered in Redmond, Washington.',\n",
       " 'city': 'Redmond',\n",
       " 'phone': '425-882-8080',\n",
       " 'state': 'WA',\n",
       " 'country': 'United States',\n",
       " 'companyOfficers': [],\n",
       " 'website': 'http://www.microsoft.com',\n",
       " 'maxAge': 1,\n",
       " 'address1': 'One Microsoft Way',\n",
       " 'industry': 'Software—Infrastructure',\n",
       " 'previousClose': 219.42,\n",
       " 'regularMarketOpen': 218.59,\n",
       " 'twoHundredDayAverage': 208.80135,\n",
       " 'trailingAnnualDividendYield': 0.009525111,\n",
       " 'payoutRatio': 0.32900003,\n",
       " 'volume24Hr': None,\n",
       " 'regularMarketDayHigh': 219.69,\n",
       " 'navPrice': None,\n",
       " 'averageDailyVolume10Day': 29593837,\n",
       " 'totalAssets': None,\n",
       " 'regularMarketPreviousClose': 219.42,\n",
       " 'fiftyDayAverage': 213.80171,\n",
       " 'trailingAnnualDividendRate': 2.09,\n",
       " 'open': 218.59,\n",
       " 'toCurrency': None,\n",
       " 'averageVolume10days': 29593837,\n",
       " 'expireDate': None,\n",
       " 'yield': None,\n",
       " 'algorithm': None,\n",
       " 'dividendRate': 2.24,\n",
       " 'exDividendDate': 1613520000,\n",
       " 'beta': 0.823097,\n",
       " 'circulatingSupply': None,\n",
       " 'startDate': None,\n",
       " 'regularMarketDayLow': 216.03,\n",
       " 'priceHint': 2,\n",
       " 'currency': 'USD',\n",
       " 'trailingPE': 35.086304,\n",
       " 'regularMarketVolume': 27786075,\n",
       " 'lastMarket': None,\n",
       " 'maxSupply': None,\n",
       " 'openInterest': None,\n",
       " 'marketCap': 1644408733696,\n",
       " 'volumeAllCurrencies': None,\n",
       " 'strikePrice': None,\n",
       " 'averageVolume': 29389431,\n",
       " 'priceToSalesTrailing12Months': 11.177786,\n",
       " 'dayLow': 216.03,\n",
       " 'ask': 216.78,\n",
       " 'ytdReturn': None,\n",
       " 'askSize': 1100,\n",
       " 'volume': 27786075,\n",
       " 'fiftyTwoWeekHigh': 232.86,\n",
       " 'forwardPE': 29.116467,\n",
       " 'fromCurrency': None,\n",
       " 'fiveYearAvgDividendYield': 1.76,\n",
       " 'fiftyTwoWeekLow': 132.52,\n",
       " 'bid': 216.75,\n",
       " 'tradeable': False,\n",
       " 'dividendYield': 0.010199999,\n",
       " 'bidSize': 1400,\n",
       " 'dayHigh': 219.69,\n",
       " 'exchange': 'NMS',\n",
       " 'shortName': 'Microsoft Corporation',\n",
       " 'longName': 'Microsoft Corporation',\n",
       " 'exchangeTimezoneName': 'America/New_York',\n",
       " 'exchangeTimezoneShortName': 'EST',\n",
       " 'isEsgPopulated': False,\n",
       " 'gmtOffSetMilliseconds': '-18000000',\n",
       " 'quoteType': 'EQUITY',\n",
       " 'symbol': 'MSFT',\n",
       " 'messageBoardId': 'finmb_21835',\n",
       " 'market': 'us_market',\n",
       " 'annualHoldingsTurnover': None,\n",
       " 'enterpriseToRevenue': 10.904,\n",
       " 'beta3Year': None,\n",
       " 'profitMargins': 0.32285,\n",
       " 'enterpriseToEbitda': 23.548,\n",
       " '52WeekChange': 0.39393938,\n",
       " 'morningStarRiskRating': None,\n",
       " 'forwardEps': 7.47,\n",
       " 'revenueQuarterlyGrowth': None,\n",
       " 'sharesOutstanding': 7560500224,\n",
       " 'fundInceptionDate': None,\n",
       " 'annualReportExpenseRatio': None,\n",
       " 'bookValue': 16.313,\n",
       " 'sharesShort': 39002778,\n",
       " 'sharesPercentSharesOut': 0.0052,\n",
       " 'fundFamily': None,\n",
       " 'lastFiscalYearEnd': 1593475200,\n",
       " 'heldPercentInstitutions': 0.71889,\n",
       " 'netIncomeToCommon': 47495999488,\n",
       " 'trailingEps': 6.199,\n",
       " 'lastDividendValue': 0.56,\n",
       " 'SandP52WeekChange': 0.15561187,\n",
       " 'priceToBook': 13.332925,\n",
       " 'heldPercentInsiders': 0.00059,\n",
       " 'nextFiscalYearEnd': 1656547200,\n",
       " 'mostRecentQuarter': 1601424000,\n",
       " 'shortRatio': 1.34,\n",
       " 'sharesShortPreviousMonthDate': 1604016000,\n",
       " 'floatShares': 7449961518,\n",
       " 'enterpriseValue': 1604190994432,\n",
       " 'threeYearAverageReturn': None,\n",
       " 'lastSplitDate': 1045526400,\n",
       " 'lastSplitFactor': '2:1',\n",
       " 'legalType': None,\n",
       " 'lastDividendDate': 1605657600,\n",
       " 'morningStarOverallRating': None,\n",
       " 'earningsQuarterlyGrowth': 0.301,\n",
       " 'dateShortInterest': 1606694400,\n",
       " 'pegRatio': 2.23,\n",
       " 'lastCapGain': None,\n",
       " 'shortPercentOfFloat': 0.0052,\n",
       " 'sharesShortPriorMonth': 36796420,\n",
       " 'impliedSharesOutstanding': None,\n",
       " 'category': None,\n",
       " 'fiveYearAverageReturn': None,\n",
       " 'regularMarketPrice': 218.59,\n",
       " 'logo_url': 'https://logo.clearbit.com/microsoft.com'}"
      ]
     },
     "metadata": {},
     "execution_count": 4
    }
   ],
   "source": [
    "msft = yf.Ticker(\"MSFT\")\n",
    "msft.info['Volume']\n"
   ]
  },
  {
   "cell_type": "code",
   "execution_count": 13,
   "metadata": {},
   "outputs": [
    {
     "output_type": "execute_result",
     "data": {
      "text/plain": [
       "             Open   High    Low  Close  Volume  Dividends  Stock Splits\n",
       "Date                                                                   \n",
       "2020-11-17  0.878  0.885  0.865  0.872       0          0             0\n",
       "2020-11-18  0.854  0.893  0.851  0.882       0          0             0\n",
       "2020-11-19  0.857  0.865  0.842  0.854       0          0             0\n",
       "2020-11-20  0.829  0.850  0.826  0.829       0          0             0\n",
       "2020-11-23  0.854  0.862  0.846  0.857       0          0             0\n",
       "2020-11-24  0.873  0.888  0.865  0.882       0          0             0\n",
       "2020-11-25  0.880  0.885  0.855  0.878       0          0             0\n",
       "2020-11-30  0.850  0.859  0.837  0.844       0          0             0\n",
       "2020-12-01  0.857  0.938  0.857  0.934       0          0             0\n",
       "2020-12-02  0.923  0.966  0.920  0.948       0          0             0\n",
       "2020-12-03  0.939  0.941  0.910  0.920       0          0             0\n",
       "2020-12-04  0.925  0.986  0.901  0.969       0          0             0\n",
       "2020-12-07  0.948  0.948  0.925  0.928       0          0             0\n",
       "2020-12-08  0.925  0.928  0.893  0.913       0          0             0\n",
       "2020-12-09  0.943  0.959  0.925  0.941       0          0             0\n",
       "2020-12-10  0.926  0.941  0.908  0.908       0          0             0\n",
       "2020-12-11  0.893  0.900  0.873  0.893       0          0             0\n",
       "2020-12-14  0.930  0.936  0.888  0.892       0          0             0\n",
       "2020-12-15  0.901  0.925  0.901  0.923       0          0             0\n",
       "2020-12-16  0.943  0.953  0.913  0.920       0          0             0\n",
       "2020-12-17  0.921  0.945  0.892  0.930       0          0             0"
      ],
      "text/html": "<div>\n<style scoped>\n    .dataframe tbody tr th:only-of-type {\n        vertical-align: middle;\n    }\n\n    .dataframe tbody tr th {\n        vertical-align: top;\n    }\n\n    .dataframe thead th {\n        text-align: right;\n    }\n</style>\n<table border=\"1\" class=\"dataframe\">\n  <thead>\n    <tr style=\"text-align: right;\">\n      <th></th>\n      <th>Open</th>\n      <th>High</th>\n      <th>Low</th>\n      <th>Close</th>\n      <th>Volume</th>\n      <th>Dividends</th>\n      <th>Stock Splits</th>\n    </tr>\n    <tr>\n      <th>Date</th>\n      <th></th>\n      <th></th>\n      <th></th>\n      <th></th>\n      <th></th>\n      <th></th>\n      <th></th>\n    </tr>\n  </thead>\n  <tbody>\n    <tr>\n      <th>2020-11-17</th>\n      <td>0.878</td>\n      <td>0.885</td>\n      <td>0.865</td>\n      <td>0.872</td>\n      <td>0</td>\n      <td>0</td>\n      <td>0</td>\n    </tr>\n    <tr>\n      <th>2020-11-18</th>\n      <td>0.854</td>\n      <td>0.893</td>\n      <td>0.851</td>\n      <td>0.882</td>\n      <td>0</td>\n      <td>0</td>\n      <td>0</td>\n    </tr>\n    <tr>\n      <th>2020-11-19</th>\n      <td>0.857</td>\n      <td>0.865</td>\n      <td>0.842</td>\n      <td>0.854</td>\n      <td>0</td>\n      <td>0</td>\n      <td>0</td>\n    </tr>\n    <tr>\n      <th>2020-11-20</th>\n      <td>0.829</td>\n      <td>0.850</td>\n      <td>0.826</td>\n      <td>0.829</td>\n      <td>0</td>\n      <td>0</td>\n      <td>0</td>\n    </tr>\n    <tr>\n      <th>2020-11-23</th>\n      <td>0.854</td>\n      <td>0.862</td>\n      <td>0.846</td>\n      <td>0.857</td>\n      <td>0</td>\n      <td>0</td>\n      <td>0</td>\n    </tr>\n    <tr>\n      <th>2020-11-24</th>\n      <td>0.873</td>\n      <td>0.888</td>\n      <td>0.865</td>\n      <td>0.882</td>\n      <td>0</td>\n      <td>0</td>\n      <td>0</td>\n    </tr>\n    <tr>\n      <th>2020-11-25</th>\n      <td>0.880</td>\n      <td>0.885</td>\n      <td>0.855</td>\n      <td>0.878</td>\n      <td>0</td>\n      <td>0</td>\n      <td>0</td>\n    </tr>\n    <tr>\n      <th>2020-11-30</th>\n      <td>0.850</td>\n      <td>0.859</td>\n      <td>0.837</td>\n      <td>0.844</td>\n      <td>0</td>\n      <td>0</td>\n      <td>0</td>\n    </tr>\n    <tr>\n      <th>2020-12-01</th>\n      <td>0.857</td>\n      <td>0.938</td>\n      <td>0.857</td>\n      <td>0.934</td>\n      <td>0</td>\n      <td>0</td>\n      <td>0</td>\n    </tr>\n    <tr>\n      <th>2020-12-02</th>\n      <td>0.923</td>\n      <td>0.966</td>\n      <td>0.920</td>\n      <td>0.948</td>\n      <td>0</td>\n      <td>0</td>\n      <td>0</td>\n    </tr>\n    <tr>\n      <th>2020-12-03</th>\n      <td>0.939</td>\n      <td>0.941</td>\n      <td>0.910</td>\n      <td>0.920</td>\n      <td>0</td>\n      <td>0</td>\n      <td>0</td>\n    </tr>\n    <tr>\n      <th>2020-12-04</th>\n      <td>0.925</td>\n      <td>0.986</td>\n      <td>0.901</td>\n      <td>0.969</td>\n      <td>0</td>\n      <td>0</td>\n      <td>0</td>\n    </tr>\n    <tr>\n      <th>2020-12-07</th>\n      <td>0.948</td>\n      <td>0.948</td>\n      <td>0.925</td>\n      <td>0.928</td>\n      <td>0</td>\n      <td>0</td>\n      <td>0</td>\n    </tr>\n    <tr>\n      <th>2020-12-08</th>\n      <td>0.925</td>\n      <td>0.928</td>\n      <td>0.893</td>\n      <td>0.913</td>\n      <td>0</td>\n      <td>0</td>\n      <td>0</td>\n    </tr>\n    <tr>\n      <th>2020-12-09</th>\n      <td>0.943</td>\n      <td>0.959</td>\n      <td>0.925</td>\n      <td>0.941</td>\n      <td>0</td>\n      <td>0</td>\n      <td>0</td>\n    </tr>\n    <tr>\n      <th>2020-12-10</th>\n      <td>0.926</td>\n      <td>0.941</td>\n      <td>0.908</td>\n      <td>0.908</td>\n      <td>0</td>\n      <td>0</td>\n      <td>0</td>\n    </tr>\n    <tr>\n      <th>2020-12-11</th>\n      <td>0.893</td>\n      <td>0.900</td>\n      <td>0.873</td>\n      <td>0.893</td>\n      <td>0</td>\n      <td>0</td>\n      <td>0</td>\n    </tr>\n    <tr>\n      <th>2020-12-14</th>\n      <td>0.930</td>\n      <td>0.936</td>\n      <td>0.888</td>\n      <td>0.892</td>\n      <td>0</td>\n      <td>0</td>\n      <td>0</td>\n    </tr>\n    <tr>\n      <th>2020-12-15</th>\n      <td>0.901</td>\n      <td>0.925</td>\n      <td>0.901</td>\n      <td>0.923</td>\n      <td>0</td>\n      <td>0</td>\n      <td>0</td>\n    </tr>\n    <tr>\n      <th>2020-12-16</th>\n      <td>0.943</td>\n      <td>0.953</td>\n      <td>0.913</td>\n      <td>0.920</td>\n      <td>0</td>\n      <td>0</td>\n      <td>0</td>\n    </tr>\n    <tr>\n      <th>2020-12-17</th>\n      <td>0.921</td>\n      <td>0.945</td>\n      <td>0.892</td>\n      <td>0.930</td>\n      <td>0</td>\n      <td>0</td>\n      <td>0</td>\n    </tr>\n  </tbody>\n</table>\n</div>"
     },
     "metadata": {},
     "execution_count": 13
    }
   ],
   "source": [
    "riskFree = yf.Ticker(\"^TNX\")\n",
    "riskFree.history()"
   ]
  },
  {
   "cell_type": "code",
   "execution_count": null,
   "metadata": {},
   "outputs": [],
   "source": []
  }
 ]
}