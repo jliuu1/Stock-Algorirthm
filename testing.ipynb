{
 "metadata": {
  "language_info": {
   "codemirror_mode": {
    "name": "ipython",
    "version": 3
   },
   "file_extension": ".py",
   "mimetype": "text/x-python",
   "name": "python",
   "nbconvert_exporter": "python",
   "pygments_lexer": "ipython3",
   "version": "3.8.5-final"
  },
  "orig_nbformat": 2,
  "kernelspec": {
   "name": "python3",
   "display_name": "Python 3",
   "language": "python"
  }
 },
 "nbformat": 4,
 "nbformat_minor": 2,
 "cells": [
  {
   "cell_type": "code",
   "execution_count": 1,
   "metadata": {},
   "outputs": [],
   "source": [
    "import yfinance as yf\n",
    "import pandas as pandas\n",
    "import numpy as np"
   ]
  },
  {
   "cell_type": "code",
   "execution_count": 25,
   "metadata": {},
   "outputs": [
    {
     "output_type": "stream",
     "name": "stdout",
     "text": [
      "106.36386108398438\n",
      "<class 'pandas.core.series.Series'>\n"
     ]
    }
   ],
   "source": [
    "msft = yf.Ticker(\"MSFT\")\n",
    "history = msft.history(start=\"2018-12-12\", end=\"2018-12-13\")['Close'].iloc[0]\n",
    "print(history)\n",
    "\n",
    "closing_price = msft.history(\"2018-12-12\")['Close']\n",
    "print(type(closing_price))\n",
    "\n"
   ]
  },
  {
   "cell_type": "code",
   "execution_count": 7,
   "metadata": {},
   "outputs": [
    {
     "output_type": "stream",
     "name": "stdout",
     "text": [
      "<class 'pandas.core.series.Series'>\n13.509747839644104\n210\n"
     ]
    }
   ],
   "source": [
    "msft = yf.Ticker(\"MSFT\")\n",
    "history = msft.history(start=\"2018-12-12\", end=\"2019-10-12\")['Close']\n",
    "std = history.std()\n",
    "# print(history)\n",
    "print(type(history))\n",
    "print(std)\n",
    "print(history.size)"
   ]
  },
  {
   "cell_type": "code",
   "execution_count": 23,
   "metadata": {},
   "outputs": [
    {
     "output_type": "stream",
     "name": "stdout",
     "text": [
      "0.9480000138282776\n<class 'pandas.core.series.Series'>\n"
     ]
    }
   ],
   "source": [
    "ten_year_treasury_bond = yf.Ticker(\"^TNX\")\n",
    "risk_free_rate = ten_year_treasury_bond.history(start=\"2020-12-01\", end=\"2020-12-02\")['Close'].iloc[1]\n",
    "history = ten_year_treasury_bond.history(start=\"2020-11-01\", end=\"2020-12-02\")['Close']\n",
    "rfr = history.mean()\n",
    "print(risk_free_rate)\n",
    "print(type(history))\n",
    "print(rfr)"
   ]
  },
  {
   "cell_type": "code",
   "execution_count": null,
   "metadata": {},
   "outputs": [],
   "source": []
  }
 ]
}