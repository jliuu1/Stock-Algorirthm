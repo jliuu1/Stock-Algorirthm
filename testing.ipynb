{
 "metadata": {
  "language_info": {
   "codemirror_mode": {
    "name": "ipython",
    "version": 3
   },
   "file_extension": ".py",
   "mimetype": "text/x-python",
   "name": "python",
   "nbconvert_exporter": "python",
   "pygments_lexer": "ipython3",
   "version": "3.8.5-final"
  },
  "orig_nbformat": 2,
  "kernelspec": {
   "name": "python3",
   "display_name": "Python 3",
   "language": "python"
  }
 },
 "nbformat": 4,
 "nbformat_minor": 2,
 "cells": [
  {
   "cell_type": "code",
   "execution_count": 2,
   "metadata": {},
   "outputs": [],
   "source": [
    "import yfinance as yf\n",
    "import pandas as pandas\n",
    "import numpy as np\n",
    "import datetime"
   ]
  },
  {
   "cell_type": "code",
   "execution_count": 14,
   "metadata": {},
   "outputs": [
    {
     "output_type": "stream",
     "name": "stdout",
     "text": [
      "             Open   High    Low  Close    Volume  Dividends  Stock Splits\nDate                                                                     \n2020-05-11  10.76  10.76  10.76  10.76         0          0             0\n2020-05-12  10.76  10.76  10.76  10.76         0          0             0\n2020-05-13  10.76  10.76  10.76  10.76         0          0             0\n2020-05-14  10.76  10.76  10.76  10.76         0          0             0\n2020-05-15  10.76  10.76  10.76  10.76         0          0             0\n...           ...    ...    ...    ...       ...        ...           ...\n2020-12-17   2.46   3.08   2.38   2.83   3338700          0             0\n2020-12-18   3.20   3.55   2.72   2.77  17276800          0             0\n2020-12-21   2.66   2.85   2.60   2.70   1738600          0             0\n2020-12-22   2.70   2.90   2.63   2.85   1514500          0             0\n2020-12-23   2.79   2.97   2.76   2.91    749285          0             0\n\n[63 rows x 7 columns]\nStarting Date:\n2020-05-11 00:00:00\n<class 'pandas._libs.tslibs.timestamps.Timestamp'>\n"
     ]
    }
   ],
   "source": [
    "atnf = yf.Ticker(\"ATNF\")\n",
    "history = atnf.history(period='max')\n",
    "print(history)\n",
    "# print(history.iloc[0])\n",
    "print(\"Starting Date:\")\n",
    "print(history.index[0])\n",
    "print(type(history.index[0]))\n",
    "\n",
    "start_date = pandas.to_datetime(history.index[0])\n",
    "print(start_date)\n",
    "print(type(start_date))\n",
    "\n",
    "\n",
    "\n"
   ]
  },
  {
   "cell_type": "code",
   "execution_count": null,
   "metadata": {},
   "outputs": [],
   "source": []
  }
 ]
}